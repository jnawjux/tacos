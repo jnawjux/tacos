{
 "cells": [
  {
   "cell_type": "code",
   "execution_count": 13,
   "metadata": {},
   "outputs": [],
   "source": [
    "ingredients = ['lb, ground beef', 'taco shells', 'oz., cheese', 'oz., tomatoes']\n",
    "taco = [.5, 6, 4, 4, 4]\n",
    "\n",
    "def make_taco_dinner(peeps):\n",
    "    ingredients_needed = [x * peeps for x in taco]\n",
    "    return print(\"Go buy:\\n\",ingredients_needed[0],ingredients[0],'\\n',ingredients_needed[1],ingredients[1],'\\n',ingredients_needed[2],ingredients[2],'\\n',ingredients_needed[3],ingredients[3],'\\n')"
   ]
  },
  {
   "cell_type": "code",
   "execution_count": 14,
   "metadata": {},
   "outputs": [
    {
     "name": "stdout",
     "output_type": "stream",
     "text": [
      "Go buy:\n",
      " 10.0 lb, ground beef \n",
      " 120 taco shells \n",
      " 80 oz., cheese \n",
      " 80 oz., tomatoes \n",
      "\n"
     ]
    }
   ],
   "source": [
    "make_taco_dinner(20)"
   ]
  }
 ],
 "metadata": {
  "kernelspec": {
   "display_name": "Python 3",
   "language": "python",
   "name": "python3"
  },
  "language_info": {
   "codemirror_mode": {
    "name": "ipython",
    "version": 3
   },
   "file_extension": ".py",
   "mimetype": "text/x-python",
   "name": "python",
   "nbconvert_exporter": "python",
   "pygments_lexer": "ipython3",
   "version": "3.7.1"
  }
 },
 "nbformat": 4,
 "nbformat_minor": 2
}
