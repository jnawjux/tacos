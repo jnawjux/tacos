{
 "cells": [
  {
   "cell_type": "code",
   "execution_count": 11,
   "metadata": {},
   "outputs": [],
   "source": [
    "ingredients = ['lb, ground beef', 'taco shells', 'oz., cheese', 'oz., tomatoes']\n",
    "taco = [.5, 6, 4, 4, 4]\n",
    "\n",
    "def make_taco_dinner(peeps):\n",
    "    ingredients_needed = [x * peeps for x in taco]\n",
    "    print(\"Go buy:\")\n",
    "    for q, i in zip(ingredients_needed, ingredients):\n",
    "        print(q,i)\n",
    "\n"
   ]
  },
  {
   "cell_type": "code",
   "execution_count": 12,
   "metadata": {},
   "outputs": [
    {
     "name": "stdout",
     "output_type": "stream",
     "text": [
      "Go buy:\n",
      "12.5 lb, ground beef\n",
      "150 taco shells\n",
      "100 oz., cheese\n",
      "100 oz., tomatoes\n"
     ]
    }
   ],
   "source": [
    "make_taco_dinner(25)"
   ]
  },
  {
   "cell_type": "code",
   "execution_count": null,
   "metadata": {},
   "outputs": [],
   "source": []
  }
 ],
 "metadata": {
  "kernelspec": {
   "display_name": "Python 3",
   "language": "python",
   "name": "python3"
  },
  "language_info": {
   "codemirror_mode": {
    "name": "ipython",
    "version": 3
   },
   "file_extension": ".py",
   "mimetype": "text/x-python",
   "name": "python",
   "nbconvert_exporter": "python",
   "pygments_lexer": "ipython3",
   "version": "3.6.6"
  }
 },
 "nbformat": 4,
 "nbformat_minor": 2
}
