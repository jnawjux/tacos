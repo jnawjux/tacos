{
 "cells": [
  {
   "cell_type": "code",
   "execution_count": 1,
   "metadata": {},
   "outputs": [],
   "source": [
    "ingredients = ['lb, ground beef', 'taco shells', 'oz., cheese', 'oz., tomatoes']\n",
    "taco = [.5, 6, 4, 4, 4]\n",
    "\n",
    "def make_taco_dinner(peeps):\n",
    "    print(\"Go buy:\")\n",
    "    for t, i in zip(taco, ingredients):\n",
    "        print(t * peeps,i)\n",
    "\n"
   ]
  },
  {
   "cell_type": "code",
   "execution_count": 5,
   "metadata": {},
   "outputs": [
    {
     "name": "stdout",
     "output_type": "stream",
     "text": [
      "Go buy:\n",
      "1.0 lb, ground beef\n",
      "12 taco shells\n",
      "8 oz., cheese\n",
      "8 oz., tomatoes\n"
     ]
    }
   ],
   "source": [
    "make_taco_dinner(2)"
   ]
  },
  {
   "cell_type": "code",
   "execution_count": null,
   "metadata": {},
   "outputs": [],
   "source": []
  }
 ],
 "metadata": {
  "kernelspec": {
   "display_name": "Python 3",
   "language": "python",
   "name": "python3"
  },
  "language_info": {
   "codemirror_mode": {
    "name": "ipython",
    "version": 3
   },
   "file_extension": ".py",
   "mimetype": "text/x-python",
   "name": "python",
   "nbconvert_exporter": "python",
   "pygments_lexer": "ipython3",
   "version": "3.6.6"
  }
 },
 "nbformat": 4,
 "nbformat_minor": 2
}
