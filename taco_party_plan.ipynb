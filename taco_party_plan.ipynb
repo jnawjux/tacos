{
 "cells": [
  {
   "cell_type": "code",
   "execution_count": 3,
   "metadata": {
    "colab": {},
    "colab_type": "code",
    "id": "qsoIK9ItBRIw"
   },
   "outputs": [],
   "source": [
    "taco_recipe =  {'ground beef, lb': .5, 'taco shells': 6, 'lettuce, oz.': 4, 'cheese, oz.': 4, 'tomatoes, oz.': 4}\n",
    "\n",
    "def make_taco_dinner(peeps):\n",
    "    print(\"Go buy:\")\n",
    "    for t, i in taco_recipe.items():\n",
    "        print(t + \": \" + str(i * peeps))\n",
    "\n"
   ]
  },
  {
   "cell_type": "code",
   "execution_count": 4,
   "metadata": {
    "colab": {
     "base_uri": "https://localhost:8080/",
     "height": 102
    },
    "colab_type": "code",
    "executionInfo": {
     "elapsed": 399,
     "status": "ok",
     "timestamp": 1555567035599,
     "user": {
      "displayName": "John Naujoks",
      "photoUrl": "https://lh6.googleusercontent.com/-jcaUY8S9vlU/AAAAAAAAAAI/AAAAAAAAMFE/unRy6S288Zg/s64/photo.jpg",
      "userId": "09532558195279011286"
     },
     "user_tz": 420
    },
    "id": "pti0l5V6BRI4",
    "outputId": "0a055784-4b74-4a73-971e-3796b1b64675"
   },
   "outputs": [
    {
     "name": "stdout",
     "output_type": "stream",
     "text": [
      "Go buy:\n",
      "ground beef, lb: 1.0\n",
      "taco shells: 12\n",
      "lettuce, oz.: 8\n",
      "cheese, oz.: 8\n",
      "tomatoes, oz.: 8\n"
     ]
    }
   ],
   "source": [
    "make_taco_dinner(2)"
   ]
  },
  {
   "cell_type": "code",
   "execution_count": 0,
   "metadata": {
    "colab": {},
    "colab_type": "code",
    "id": "Xw00BqUDBRJF"
   },
   "outputs": [],
   "source": []
  }
 ],
 "metadata": {
  "colab": {
   "name": "taco_party_plan.ipynb",
   "provenance": [],
   "version": "0.3.2"
  },
  "kernelspec": {
   "display_name": "Python 3",
   "language": "python",
   "name": "python3"
  },
  "language_info": {
   "codemirror_mode": {
    "name": "ipython",
    "version": 3
   },
   "file_extension": ".py",
   "mimetype": "text/x-python",
   "name": "python",
   "nbconvert_exporter": "python",
   "pygments_lexer": "ipython3",
   "version": "3.7.1"
  }
 },
 "nbformat": 4,
 "nbformat_minor": 1
}
